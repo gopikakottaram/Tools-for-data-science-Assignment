{
 "cells": [
  {
   "cell_type": "markdown",
   "id": "37840209-f71c-41ed-9823-bd9cd47dce1e",
   "metadata": {
    "tags": []
   },
   "source": [
    "# My Jupyter Notebook on IBM Watson Studio"
   ]
  },
  {
   "cell_type": "markdown",
   "id": "6a7a21a8-4a29-414c-979e-27c56d9ee995",
   "metadata": {},
   "source": [
    "**Gopika Raveendran**<br>Student"
   ]
  },
  {
   "cell_type": "markdown",
   "id": "29e1c2ed-40b8-439d-bedc-cd575d6f7c80",
   "metadata": {},
   "source": [
    "*I am intrested in data science because i love to gain insights from data.*"
   ]
  },
  {
   "cell_type": "markdown",
   "id": "9e09c3ef-4f9d-4b8f-82d7-d4e9e5ed8c4d",
   "metadata": {},
   "source": [
    "### The following code tests addition of two numbers"
   ]
  },
  {
   "cell_type": "code",
   "execution_count": 6,
   "id": "3829dc2f-cc61-4fd9-b7cc-cdc8473c0fb8",
   "metadata": {},
   "outputs": [
    {
     "data": {
      "text/plain": [
       "5"
      ]
     },
     "execution_count": 6,
     "metadata": {},
     "output_type": "execute_result"
    }
   ],
   "source": [
    "2+3"
   ]
  },
  {
   "cell_type": "markdown",
   "id": "8878d64c-8b10-4d4c-8620-022d1757bd55",
   "metadata": {},
   "source": [
    "* one \n",
    "* two\n",
    "* three\n",
    "* four\n",
    "|Name|Age|Marks|\n",
    "|----|---|-----|\n",
    "|Amal|25|120|\n",
    "|Arun|24|135|\n",
    "\n",
    "(https://www.ibm.com/us-en/)"
   ]
  }
 ],
 "metadata": {
  "kernelspec": {
   "display_name": "Python",
   "language": "python",
   "name": "conda-env-python-py"
  },
  "language_info": {
   "codemirror_mode": {
    "name": "ipython",
    "version": 3
   },
   "file_extension": ".py",
   "mimetype": "text/x-python",
   "name": "python",
   "nbconvert_exporter": "python",
   "pygments_lexer": "ipython3",
   "version": "3.7.12"
  }
 },
 "nbformat": 4,
 "nbformat_minor": 5
}
